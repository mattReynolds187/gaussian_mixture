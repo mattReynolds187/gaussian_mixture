{
 "cells": [
  {
   "cell_type": "code",
   "execution_count": 1,
   "metadata": {},
   "outputs": [],
   "source": [
    "from helper_code import GaussianMixture, init, rmse\n",
    "import numpy as np\n",
    "from typing import NamedTuple, Tuple\n",
    "\n",
    "pi = np.pi"
   ]
  },
  {
   "cell_type": "code",
   "execution_count": 2,
   "metadata": {},
   "outputs": [],
   "source": [
    "def logged_gauss_incomplete_p_non_vect(X, mu, var, p):\n",
    "    n = X.shape[0]\n",
    "    k = mu.shape[0]\n",
    "    output_mat = np.zeros([n,k])\n",
    "    for i in range(n):\n",
    "        indices = np.nonzero(X[i])[0]\n",
    "        d = len(indices)\n",
    "        for j in range(k):\n",
    "            summ = 0\n",
    "            for index in indices:\n",
    "                summ += (X[i][index] - mu[j][index])**2\n",
    "            \n",
    "            exp_factor_logged = -summ/(2*var[j])\n",
    "            first_factor_logged = np.log(p[j]) - (d/2)*np.log(2*pi*var[j])\n",
    "            output_mat[i][j] = first_factor_logged + exp_factor_logged\n",
    "            \n",
    "    \n",
    "    return output_mat"
   ]
  },
  {
   "cell_type": "code",
   "execution_count": 3,
   "metadata": {},
   "outputs": [],
   "source": [
    "def logged_gauss_incomplete_p(X, mu, var, p):\n",
    "    \n",
    "    n,d = X.shape\n",
    "    k = var.shape[0]\n",
    "    delta = np.where(X == 0, 0, 1) #nxd\n",
    "    delta_reshaped = delta.reshape([delta.shape[0],1,delta.shape[1]]) #nx1xd\n",
    "    X_reshaped = X.reshape([n,1,d])\n",
    "    u_3d = (mu*np.ones([n,k,d]))*delta_reshaped\n",
    "    sub_stack = u_3d-X_reshaped #nxkxd\n",
    "    norm_squared = np.sum(sub_stack*sub_stack, axis = 2)#nxk\n",
    "    \n",
    "    exp_factor_logged = -norm_squared/(2*var)\n",
    "    C_u = np.sum(delta, axis = 1, keepdims=True)\n",
    "    \n",
    "    var_2d = var*np.ones([n,k])\n",
    "    first_factor_logged = np.log(p) - (C_u/2)*np.log(2*pi*var_2d)\n",
    "    \n",
    "    return first_factor_logged + exp_factor_logged"
   ]
  },
  {
   "cell_type": "code",
   "execution_count": 4,
   "metadata": {},
   "outputs": [],
   "source": [
    "def estep(X: np.ndarray, mixture: GaussianMixture, vectorized=True) -> Tuple[np.ndarray, float]:\n",
    "    \"\"\"E-step: Softly assigns each datapoint to a gaussian component\n",
    "\n",
    "    Args:\n",
    "        X: (n, d) array holding the data, with incomplete entries (set to 0)\n",
    "        mixture: the current gaussian mixture\n",
    "\n",
    "    Returns:\n",
    "        np.ndarray: (n, K) array holding the soft counts\n",
    "            for all components for all examples\n",
    "        float: log-likelihood of the assignment\n",
    "\n",
    "    \"\"\"\n",
    "    mu, var, p = mixture\n",
    "    \n",
    "    if vectorized:\n",
    "        logged_gauss_p = logged_gauss_incomplete_p(X,mu,var,p)\n",
    "    else:\n",
    "        logged_gauss_p = logged_gauss_incomplete_p_non_vect(X,mu,var,p)\n",
    "        \n",
    "    max_vector = np.amax(logged_gauss_p, axis=1, keepdims=True)\n",
    "    scaled_gauss = np.exp(logged_gauss_p - max_vector)\n",
    "    denominator_logged = max_vector + np.log(np.sum(scaled_gauss, axis = 1, keepdims=True))\n",
    "    log_post = logged_gauss_p - denominator_logged\n",
    "    log_likelihood = np.sum(denominator_logged)\n",
    "    \n",
    "    return np.exp(log_post), log_likelihood"
   ]
  },
  {
   "cell_type": "code",
   "execution_count": 5,
   "metadata": {},
   "outputs": [],
   "source": [
    "def mstep(X: np.ndarray, post: np.ndarray, mixture: GaussianMixture,\n",
    "          min_variance: float = .25) -> GaussianMixture:\n",
    "    \"\"\"M-step: Updates the gaussian mixture by maximizing the log-likelihood\n",
    "    of the weighted dataset\n",
    "\n",
    "    Args:\n",
    "        X: (n, d) array holding the data, with incomplete entries (set to 0)\n",
    "        post: (n, K) array holding the soft counts\n",
    "            for all components for all examples\n",
    "        mixture: the current gaussian mixture\n",
    "        min_variance: the minimum variance for each gaussian\n",
    "\n",
    "    Returns:\n",
    "        GaussianMixture: the new gaussian mixture\n",
    "    \"\"\"\n",
    "    mu, var, p = mixture\n",
    "    n, d = X.shape\n",
    "    k = post.shape[1]\n",
    "    new_p = np.sum(post , axis = 0)/n\n",
    "    \n",
    "    delta = np.where(X == 0, 0, 1) #nxd\n",
    "    mu_numerator = np.dot(X.T, post).T\n",
    "    mu_denominator = np.dot(delta.T, post).T\n",
    "    new_mu = np.where(mu_denominator >= 1, mu_numerator/(mu_denominator + 1e-16), mu) #kxd\n",
    "    \n",
    "    #vectorized computing norm_squared\n",
    "    delta_reshaped = delta.reshape([delta.shape[0],1,delta.shape[1]]) #nx1xd\n",
    "    X_reshaped = X.reshape([n,1,d])\n",
    "    u_3d = (new_mu*np.ones([n,k,d]))*delta_reshaped\n",
    "    sub_stack = u_3d-X_reshaped #nxkxd\n",
    "    norm_squared = np.sum(sub_stack*sub_stack, axis = 2)#nxk\n",
    "            \n",
    "    C_u = np.sum(delta, axis = 1, keepdims=True)\n",
    "    \n",
    "    summation_factor = np.sum(post*norm_squared, axis = 0)\n",
    "    first_factor = 1/np.sum(C_u*post, axis = 0)\n",
    "    var_bad = first_factor*summation_factor\n",
    "    new_var = np.where(var_bad < min_variance, min_variance, var_bad)\n",
    "    \n",
    "    mixture.mu[:] = new_mu[:]\n",
    "    mixture.var[:] = new_var[:]\n",
    "    mixture.p[:] = new_p[:]\n",
    "    \n",
    "    return mixture"
   ]
  },
  {
   "cell_type": "code",
   "execution_count": 6,
   "metadata": {},
   "outputs": [],
   "source": [
    "def run(X: np.ndarray, mixture: GaussianMixture,\n",
    "        post: np.ndarray, vectorized=True) -> Tuple[GaussianMixture, np.ndarray, float]:\n",
    "    \"\"\"Runs the mixture model\n",
    "\n",
    "    Args:\n",
    "        X: (n, d) array holding the data\n",
    "        post: (n, K) array holding the soft counts\n",
    "            for all components for all examples\n",
    "\n",
    "    Returns:\n",
    "        GaussianMixture: the new gaussian mixture\n",
    "        np.ndarray: (n, K) array holding the soft counts\n",
    "            for all components for all examples\n",
    "        float: log-likelihood of the current assignment\n",
    "    \"\"\"\n",
    "    flag = False\n",
    "    while True:\n",
    "        post, new_log_likelihood = estep(X, mixture, vectorized)\n",
    "        if flag and new_log_likelihood - old_log_likelihood <= abs(new_log_likelihood)/(10**6):\n",
    "            return mixture, new_log_likelihood, post\n",
    "        old_log_likelihood = new_log_likelihood\n",
    "        mixture = mstep(X, post, mixture)\n",
    "        flag = True"
   ]
  },
  {
   "cell_type": "code",
   "execution_count": 7,
   "metadata": {},
   "outputs": [],
   "source": [
    "def fill_matrix(X: np.ndarray, mixture: GaussianMixture) -> np.ndarray:\n",
    "    \"\"\"Fills an incomplete matrix according to a mixture model\n",
    "\n",
    "    Args:\n",
    "        X: (n, d) array of incomplete data (incomplete entries =0)\n",
    "        mixture: a mixture of gaussians\n",
    "\n",
    "    Returns\n",
    "        np.ndarray: a (n, d) array with completed data\n",
    "    \"\"\"\n",
    "    mu = mixture[0]\n",
    "    post = estep(X, mixture)[0]\n",
    "    new_values = np.dot(post, mu)\n",
    "    new_X = np.where(X==0, new_values, X)\n",
    "    \n",
    "    return new_X"
   ]
  },
  {
   "cell_type": "code",
   "execution_count": 9,
   "metadata": {},
   "outputs": [
    {
     "name": "stdout",
     "output_type": "stream",
     "text": [
      "0.48047111268956605\n"
     ]
    }
   ],
   "source": [
    "X = np.loadtxt(\"netflix_incomplete.txt\")\n",
    "X_gold = np.loadtxt('netflix_complete.txt')\n",
    "mixture = init(X, 12, 1)[0]\n",
    "final_mixture = run(X, mixture, 0)[0]\n",
    "X_pred = fill_matrix(X, final_mixture)\n",
    "print(rmse(X_gold, X_pred))"
   ]
  }
 ],
 "metadata": {
  "kernelspec": {
   "display_name": "Python 3",
   "language": "python",
   "name": "python3"
  },
  "language_info": {
   "codemirror_mode": {
    "name": "ipython",
    "version": 3
   },
   "file_extension": ".py",
   "mimetype": "text/x-python",
   "name": "python",
   "nbconvert_exporter": "python",
   "pygments_lexer": "ipython3",
   "version": "3.8.0"
  }
 },
 "nbformat": 4,
 "nbformat_minor": 2
}
