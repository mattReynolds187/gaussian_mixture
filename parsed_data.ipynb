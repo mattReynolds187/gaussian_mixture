{
 "cells": [
  {
   "cell_type": "code",
   "execution_count": 1,
   "metadata": {},
   "outputs": [],
   "source": [
    "import numpy as np\n",
    "import pandas as pd"
   ]
  },
  {
   "cell_type": "code",
   "execution_count": 2,
   "metadata": {},
   "outputs": [
    {
     "data": {
      "text/plain": [
       "(9091, 1200)"
      ]
     },
     "execution_count": 2,
     "metadata": {},
     "output_type": "execute_result"
    }
   ],
   "source": [
    "my_x = np.loadtxt('my_array.txt')\n",
    "my_x.shape"
   ]
  },
  {
   "cell_type": "code",
   "execution_count": 3,
   "metadata": {},
   "outputs": [],
   "source": [
    "from gaussian_mixture import GMM\n",
    "g = GMM(my_x, 12, 1)\n",
    "g.run()"
   ]
  },
  {
   "cell_type": "code",
   "execution_count": 4,
   "metadata": {},
   "outputs": [],
   "source": [
    "x_filled = g.fill_matrix(my_x)"
   ]
  },
  {
   "cell_type": "code",
   "execution_count": 5,
   "metadata": {},
   "outputs": [
    {
     "data": {
      "text/plain": [
       "array([[5.        , 3.00147699, 3.52517575, ..., 3.09988545, 3.64981884,\n",
       "        3.52619517],\n",
       "       [5.        , 3.00158783, 3.52530593, ..., 3.09999993, 3.64995362,\n",
       "        3.52632539],\n",
       "       [3.        , 3.0015879 , 3.52530601, ..., 3.1       , 3.6499537 ,\n",
       "        3.52632547],\n",
       "       ...,\n",
       "       [3.05379934, 3.00148405, 3.52518403, ..., 3.09989274, 3.64982741,\n",
       "        4.        ],\n",
       "       [3.05379934, 3.00148405, 3.52518403, ..., 3.09989274, 3.64982741,\n",
       "        4.        ],\n",
       "       [3.05350239, 3.00118289, 3.52484925, ..., 3.09958171, 3.64946593,\n",
       "        3.        ]])"
      ]
     },
     "execution_count": 5,
     "metadata": {},
     "output_type": "execute_result"
    }
   ],
   "source": [
    "x_filled"
   ]
  },
  {
   "cell_type": "code",
   "execution_count": null,
   "metadata": {},
   "outputs": [],
   "source": []
  }
 ],
 "metadata": {
  "kernelspec": {
   "display_name": "Python 3",
   "language": "python",
   "name": "python3"
  },
  "language_info": {
   "codemirror_mode": {
    "name": "ipython",
    "version": 3
   },
   "file_extension": ".py",
   "mimetype": "text/x-python",
   "name": "python",
   "nbconvert_exporter": "python",
   "pygments_lexer": "ipython3",
   "version": "3.8.0"
  }
 },
 "nbformat": 4,
 "nbformat_minor": 2
}
